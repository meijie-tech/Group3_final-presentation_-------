{
 "cells": [
  {
   "cell_type": "markdown",
   "metadata": {},
   "source": [
    "# # 第三组：王玮璇（2019212939）, 卜凡（2020213482）, 陈玫洁（2020213485）, 倪若洋（2020213513）, 唐紫川（2020213720）"
   ]
  },
  {
   "cell_type": "markdown",
   "metadata": {},
   "source": [
    "# *主题：中资美元债利差分析——以2020年9月数据为例_Part2_Spread Analysis "
   ]
  },
  {
   "cell_type": "markdown",
   "metadata": {},
   "source": [
    "## 1.数据清洗"
   ]
  },
  {
   "cell_type": "code",
   "execution_count": 37,
   "metadata": {},
   "outputs": [],
   "source": [
    "import pandas as pd\n",
    "spread=pd.read_excel('spread_finished.xlsx')"
   ]
  },
  {
   "cell_type": "code",
   "execution_count": 38,
   "metadata": {},
   "outputs": [
    {
     "data": {
      "text/html": [
       "<div>\n",
       "<style scoped>\n",
       "    .dataframe tbody tr th:only-of-type {\n",
       "        vertical-align: middle;\n",
       "    }\n",
       "\n",
       "    .dataframe tbody tr th {\n",
       "        vertical-align: top;\n",
       "    }\n",
       "\n",
       "    .dataframe thead th {\n",
       "        text-align: right;\n",
       "    }\n",
       "</style>\n",
       "<table border=\"1\" class=\"dataframe\">\n",
       "  <thead>\n",
       "    <tr style=\"text-align: right;\">\n",
       "      <th></th>\n",
       "      <th>Unnamed: 0</th>\n",
       "      <th>彭博代码.1</th>\n",
       "      <th>是否是银行</th>\n",
       "      <th>是否是城投债</th>\n",
       "      <th>是否是产业债</th>\n",
       "      <th>评级</th>\n",
       "      <th>标普评级</th>\n",
       "      <th>spread1</th>\n",
       "      <th>spread2</th>\n",
       "      <th>spread3</th>\n",
       "      <th>spread4</th>\n",
       "      <th>spread5</th>\n",
       "    </tr>\n",
       "  </thead>\n",
       "  <tbody>\n",
       "    <tr>\n",
       "      <th>0</th>\n",
       "      <td>0</td>\n",
       "      <td>AV3664753</td>\n",
       "      <td>NaN</td>\n",
       "      <td>NaN</td>\n",
       "      <td>房地产</td>\n",
       "      <td>高收益</td>\n",
       "      <td>B</td>\n",
       "      <td>778.96</td>\n",
       "      <td>750.41</td>\n",
       "      <td>2261.15</td>\n",
       "      <td>10162.72</td>\n",
       "      <td>3527.38</td>\n",
       "    </tr>\n",
       "    <tr>\n",
       "      <th>1</th>\n",
       "      <td>1</td>\n",
       "      <td>AV6914221</td>\n",
       "      <td>NaN</td>\n",
       "      <td>NaN</td>\n",
       "      <td>房地产</td>\n",
       "      <td>0</td>\n",
       "      <td>BB</td>\n",
       "      <td>-4.85</td>\n",
       "      <td>-77.20</td>\n",
       "      <td>-185.15</td>\n",
       "      <td>-320.14</td>\n",
       "      <td>-266.98</td>\n",
       "    </tr>\n",
       "    <tr>\n",
       "      <th>2</th>\n",
       "      <td>2</td>\n",
       "      <td>QZ4301707</td>\n",
       "      <td>NaN</td>\n",
       "      <td>NaN</td>\n",
       "      <td>NaN</td>\n",
       "      <td>0</td>\n",
       "      <td>NaN</td>\n",
       "      <td>NaN</td>\n",
       "      <td>988.60</td>\n",
       "      <td>993.50</td>\n",
       "      <td>1001.40</td>\n",
       "      <td>1003.66</td>\n",
       "    </tr>\n",
       "    <tr>\n",
       "      <th>3</th>\n",
       "      <td>3</td>\n",
       "      <td>AO0636306</td>\n",
       "      <td>NaN</td>\n",
       "      <td>NaN</td>\n",
       "      <td>房地产</td>\n",
       "      <td>高收益</td>\n",
       "      <td>B</td>\n",
       "      <td>1329.00</td>\n",
       "      <td>1427.41</td>\n",
       "      <td>1360.65</td>\n",
       "      <td>1679.95</td>\n",
       "      <td>1504.33</td>\n",
       "    </tr>\n",
       "    <tr>\n",
       "      <th>4</th>\n",
       "      <td>4</td>\n",
       "      <td>AV7504807</td>\n",
       "      <td>NaN</td>\n",
       "      <td>NaN</td>\n",
       "      <td>房地产</td>\n",
       "      <td>0</td>\n",
       "      <td>NaN</td>\n",
       "      <td>NaN</td>\n",
       "      <td>NaN</td>\n",
       "      <td>NaN</td>\n",
       "      <td>NaN</td>\n",
       "      <td>NaN</td>\n",
       "    </tr>\n",
       "  </tbody>\n",
       "</table>\n",
       "</div>"
      ],
      "text/plain": [
       "   Unnamed: 0     彭博代码.1 是否是银行 是否是城投债 是否是产业债   评级 标普评级  spread1  spread2  \\\n",
       "0           0  AV3664753   NaN    NaN    房地产  高收益    B   778.96   750.41   \n",
       "1           1  AV6914221   NaN    NaN    房地产    0   BB    -4.85   -77.20   \n",
       "2           2  QZ4301707   NaN    NaN    NaN    0  NaN      NaN   988.60   \n",
       "3           3  AO0636306   NaN    NaN    房地产  高收益    B  1329.00  1427.41   \n",
       "4           4  AV7504807   NaN    NaN    房地产    0  NaN      NaN      NaN   \n",
       "\n",
       "   spread3   spread4  spread5  \n",
       "0  2261.15  10162.72  3527.38  \n",
       "1  -185.15   -320.14  -266.98  \n",
       "2   993.50   1001.40  1003.66  \n",
       "3  1360.65   1679.95  1504.33  \n",
       "4      NaN       NaN      NaN  "
      ]
     },
     "execution_count": 38,
     "metadata": {},
     "output_type": "execute_result"
    }
   ],
   "source": [
    "spread.head()"
   ]
  },
  {
   "cell_type": "code",
   "execution_count": 39,
   "metadata": {},
   "outputs": [
    {
     "name": "stdout",
     "output_type": "stream",
     "text": [
      "<class 'pandas.core.frame.DataFrame'>\n",
      "RangeIndex: 2165 entries, 0 to 2164\n",
      "Data columns (total 12 columns):\n",
      " #   Column      Non-Null Count  Dtype  \n",
      "---  ------      --------------  -----  \n",
      " 0   Unnamed: 0  2165 non-null   int64  \n",
      " 1   彭博代码.1      2165 non-null   object \n",
      " 2   是否是银行       372 non-null    object \n",
      " 3   是否是城投债      327 non-null    object \n",
      " 4   是否是产业债      467 non-null    object \n",
      " 5   评级          1456 non-null   object \n",
      " 6   标普评级        761 non-null    object \n",
      " 7   spread1     1433 non-null   float64\n",
      " 8   spread2     1437 non-null   float64\n",
      " 9   spread3     1442 non-null   float64\n",
      " 10  spread4     1448 non-null   float64\n",
      " 11  spread5     1443 non-null   float64\n",
      "dtypes: float64(5), int64(1), object(6)\n",
      "memory usage: 203.1+ KB\n"
     ]
    }
   ],
   "source": [
    "spread.info()"
   ]
  },
  {
   "cell_type": "markdown",
   "metadata": {},
   "source": [
    "### 1.1 填充空值"
   ]
  },
  {
   "cell_type": "code",
   "execution_count": 40,
   "metadata": {},
   "outputs": [
    {
     "name": "stdout",
     "output_type": "stream",
     "text": [
      "[nan '银行' 0]\n"
     ]
    },
    {
     "data": {
      "text/plain": [
       "0    1963\n",
       "1     202\n",
       "Name: 是否是银行, dtype: int64"
      ]
     },
     "execution_count": 40,
     "metadata": {},
     "output_type": "execute_result"
    }
   ],
   "source": [
    "print(spread['是否是银行'].unique())\n",
    "spread.loc[spread['是否是银行']=='银行',['是否是银行']]=1\n",
    "spread['是否是银行'].fillna(0, inplace=True)\n",
    "spread['是否是银行'].value_counts() "
   ]
  },
  {
   "cell_type": "code",
   "execution_count": 41,
   "metadata": {},
   "outputs": [
    {
     "name": "stdout",
     "output_type": "stream",
     "text": [
      "[nan '城投债' 0]\n"
     ]
    },
    {
     "data": {
      "text/plain": [
       "0    1967\n",
       "1     198\n",
       "Name: 是否是城投债, dtype: int64"
      ]
     },
     "execution_count": 41,
     "metadata": {},
     "output_type": "execute_result"
    }
   ],
   "source": [
    "print(spread['是否是城投债'].unique() ) \n",
    "spread.loc[spread['是否是城投债']=='城投债',['是否是城投债']]=1\n",
    "spread['是否是城投债'].fillna(0, inplace=True)\n",
    "spread['是否是城投债'].value_counts() "
   ]
  },
  {
   "cell_type": "code",
   "execution_count": 42,
   "metadata": {},
   "outputs": [
    {
     "name": "stdout",
     "output_type": "stream",
     "text": [
      "['房地产' nan 0]\n"
     ]
    },
    {
     "data": {
      "text/plain": [
       "0    1868\n",
       "1     297\n",
       "Name: 是否是产业债, dtype: int64"
      ]
     },
     "execution_count": 42,
     "metadata": {},
     "output_type": "execute_result"
    }
   ],
   "source": [
    "print(spread['是否是产业债'].unique() ) \n",
    "spread.loc[spread['是否是产业债']=='房地产',['是否是产业债']]=1\n",
    "spread['是否是产业债'].fillna(0, inplace=True)\n",
    "spread['是否是产业债'].value_counts() "
   ]
  },
  {
   "cell_type": "code",
   "execution_count": 43,
   "metadata": {},
   "outputs": [
    {
     "data": {
      "text/plain": [
       "NR         212\n",
       "A+         137\n",
       "A           80\n",
       "BBB+        72\n",
       "B           46\n",
       "BBB         45\n",
       "A-          34\n",
       "BBB-        34\n",
       "B-          28\n",
       "BB-         23\n",
       "BB          21\n",
       "B+          18\n",
       "BB+          3\n",
       "CCC+         3\n",
       "BBB- *-      2\n",
       "CCC *+       2\n",
       "CCC- *-      1\n",
       "Name: 标普评级, dtype: int64"
      ]
     },
     "execution_count": 43,
     "metadata": {},
     "output_type": "execute_result"
    }
   ],
   "source": [
    "spread['标普评级'].value_counts()   #NR发债人未获得评级"
   ]
  },
  {
   "cell_type": "code",
   "execution_count": 44,
   "metadata": {},
   "outputs": [
    {
     "name": "stdout",
     "output_type": "stream",
     "text": [
      "['高收益' 0 '投资级' nan '无评级']\n"
     ]
    },
    {
     "data": {
      "text/plain": [
       "无评级    858\n",
       "投资级    434\n",
       "高收益    164\n",
       "Name: 评级, dtype: int64"
      ]
     },
     "execution_count": 44,
     "metadata": {},
     "output_type": "execute_result"
    }
   ],
   "source": [
    "print(spread['评级'].unique())\n",
    "spread.loc[spread['评级']==0,['评级']]='无评级'\n",
    "spread['评级'].value_counts() "
   ]
  },
  {
   "cell_type": "markdown",
   "metadata": {},
   "source": [
    "### 1.2 去除异常值"
   ]
  },
  {
   "cell_type": "code",
   "execution_count": 45,
   "metadata": {},
   "outputs": [
    {
     "data": {
      "text/html": [
       "<div>\n",
       "<style scoped>\n",
       "    .dataframe tbody tr th:only-of-type {\n",
       "        vertical-align: middle;\n",
       "    }\n",
       "\n",
       "    .dataframe tbody tr th {\n",
       "        vertical-align: top;\n",
       "    }\n",
       "\n",
       "    .dataframe thead th {\n",
       "        text-align: right;\n",
       "    }\n",
       "</style>\n",
       "<table border=\"1\" class=\"dataframe\">\n",
       "  <thead>\n",
       "    <tr style=\"text-align: right;\">\n",
       "      <th></th>\n",
       "      <th>Unnamed: 0</th>\n",
       "      <th>是否是银行</th>\n",
       "      <th>是否是城投债</th>\n",
       "      <th>是否是产业债</th>\n",
       "      <th>spread1</th>\n",
       "      <th>spread2</th>\n",
       "      <th>spread3</th>\n",
       "      <th>spread4</th>\n",
       "      <th>spread5</th>\n",
       "    </tr>\n",
       "  </thead>\n",
       "  <tbody>\n",
       "    <tr>\n",
       "      <th>count</th>\n",
       "      <td>2165.000000</td>\n",
       "      <td>2165.000000</td>\n",
       "      <td>2165.000000</td>\n",
       "      <td>2165.000000</td>\n",
       "      <td>1.433000e+03</td>\n",
       "      <td>1.437000e+03</td>\n",
       "      <td>1.442000e+03</td>\n",
       "      <td>1.448000e+03</td>\n",
       "      <td>1.443000e+03</td>\n",
       "    </tr>\n",
       "    <tr>\n",
       "      <th>mean</th>\n",
       "      <td>1082.000000</td>\n",
       "      <td>0.093303</td>\n",
       "      <td>0.091455</td>\n",
       "      <td>0.137182</td>\n",
       "      <td>3.259788e+03</td>\n",
       "      <td>4.465496e+03</td>\n",
       "      <td>4.872016e+03</td>\n",
       "      <td>6.118904e+03</td>\n",
       "      <td>6.340711e+03</td>\n",
       "    </tr>\n",
       "    <tr>\n",
       "      <th>std</th>\n",
       "      <td>625.125987</td>\n",
       "      <td>0.290923</td>\n",
       "      <td>0.288322</td>\n",
       "      <td>0.344119</td>\n",
       "      <td>6.640230e+04</td>\n",
       "      <td>1.005676e+05</td>\n",
       "      <td>1.067371e+05</td>\n",
       "      <td>1.385691e+05</td>\n",
       "      <td>1.468935e+05</td>\n",
       "    </tr>\n",
       "    <tr>\n",
       "      <th>min</th>\n",
       "      <td>0.000000</td>\n",
       "      <td>0.000000</td>\n",
       "      <td>0.000000</td>\n",
       "      <td>0.000000</td>\n",
       "      <td>-4.029140e+03</td>\n",
       "      <td>-3.380300e+03</td>\n",
       "      <td>-3.625800e+03</td>\n",
       "      <td>-2.078346e+04</td>\n",
       "      <td>-3.190870e+03</td>\n",
       "    </tr>\n",
       "    <tr>\n",
       "      <th>5%</th>\n",
       "      <td>108.200000</td>\n",
       "      <td>0.000000</td>\n",
       "      <td>0.000000</td>\n",
       "      <td>0.000000</td>\n",
       "      <td>5.905200e+01</td>\n",
       "      <td>5.886000e+01</td>\n",
       "      <td>5.791450e+01</td>\n",
       "      <td>5.839000e+01</td>\n",
       "      <td>6.190100e+01</td>\n",
       "    </tr>\n",
       "    <tr>\n",
       "      <th>50%</th>\n",
       "      <td>1082.000000</td>\n",
       "      <td>0.000000</td>\n",
       "      <td>0.000000</td>\n",
       "      <td>0.000000</td>\n",
       "      <td>2.047800e+02</td>\n",
       "      <td>2.116500e+02</td>\n",
       "      <td>2.127050e+02</td>\n",
       "      <td>2.206500e+02</td>\n",
       "      <td>2.201800e+02</td>\n",
       "    </tr>\n",
       "    <tr>\n",
       "      <th>95%</th>\n",
       "      <td>2055.800000</td>\n",
       "      <td>1.000000</td>\n",
       "      <td>1.000000</td>\n",
       "      <td>1.000000</td>\n",
       "      <td>1.378658e+03</td>\n",
       "      <td>1.445406e+03</td>\n",
       "      <td>1.425731e+03</td>\n",
       "      <td>1.818450e+03</td>\n",
       "      <td>1.680971e+03</td>\n",
       "    </tr>\n",
       "    <tr>\n",
       "      <th>max</th>\n",
       "      <td>2164.000000</td>\n",
       "      <td>1.000000</td>\n",
       "      <td>1.000000</td>\n",
       "      <td>1.000000</td>\n",
       "      <td>2.333014e+06</td>\n",
       "      <td>3.637499e+06</td>\n",
       "      <td>3.801204e+06</td>\n",
       "      <td>4.994804e+06</td>\n",
       "      <td>5.332324e+06</td>\n",
       "    </tr>\n",
       "  </tbody>\n",
       "</table>\n",
       "</div>"
      ],
      "text/plain": [
       "        Unnamed: 0        是否是银行       是否是城投债       是否是产业债       spread1  \\\n",
       "count  2165.000000  2165.000000  2165.000000  2165.000000  1.433000e+03   \n",
       "mean   1082.000000     0.093303     0.091455     0.137182  3.259788e+03   \n",
       "std     625.125987     0.290923     0.288322     0.344119  6.640230e+04   \n",
       "min       0.000000     0.000000     0.000000     0.000000 -4.029140e+03   \n",
       "5%      108.200000     0.000000     0.000000     0.000000  5.905200e+01   \n",
       "50%    1082.000000     0.000000     0.000000     0.000000  2.047800e+02   \n",
       "95%    2055.800000     1.000000     1.000000     1.000000  1.378658e+03   \n",
       "max    2164.000000     1.000000     1.000000     1.000000  2.333014e+06   \n",
       "\n",
       "            spread2       spread3       spread4       spread5  \n",
       "count  1.437000e+03  1.442000e+03  1.448000e+03  1.443000e+03  \n",
       "mean   4.465496e+03  4.872016e+03  6.118904e+03  6.340711e+03  \n",
       "std    1.005676e+05  1.067371e+05  1.385691e+05  1.468935e+05  \n",
       "min   -3.380300e+03 -3.625800e+03 -2.078346e+04 -3.190870e+03  \n",
       "5%     5.886000e+01  5.791450e+01  5.839000e+01  6.190100e+01  \n",
       "50%    2.116500e+02  2.127050e+02  2.206500e+02  2.201800e+02  \n",
       "95%    1.445406e+03  1.425731e+03  1.818450e+03  1.680971e+03  \n",
       "max    3.637499e+06  3.801204e+06  4.994804e+06  5.332324e+06  "
      ]
     },
     "execution_count": 45,
     "metadata": {},
     "output_type": "execute_result"
    }
   ],
   "source": [
    "spread.describe(percentiles=[0.05,0.5,0.95])"
   ]
  },
  {
   "cell_type": "code",
   "execution_count": 46,
   "metadata": {},
   "outputs": [],
   "source": [
    "spread = spread.drop(spread[(spread['spread1'] >= 1.378658e+03)].index)\n",
    "spread = spread.drop(spread[(spread['spread1'] <= 5.905200e+01)].index)\n",
    "spread = spread.drop(spread[(spread['spread2'] >= 1.378658e+03)].index)\n",
    "spread = spread.drop(spread[(spread['spread2'] <= 5.886000e+01)].index)\n",
    "spread = spread.drop(spread[(spread['spread3'] >= 1.425731e+03)].index)\n",
    "spread = spread.drop(spread[(spread['spread3'] <= 5.791450e+01)].index)\n",
    "spread = spread.drop(spread[(spread['spread4'] >= 1.818450e+03)].index)\n",
    "spread = spread.drop(spread[(spread['spread4'] <= 5.839000e+01)].index)\n",
    "spread = spread.drop(spread[(spread['spread4'] >= 1.680971e+03)].index)\n",
    "spread = spread.drop(spread[(spread['spread4'] <= 6.190100e+01)].index)"
   ]
  },
  {
   "cell_type": "markdown",
   "metadata": {},
   "source": [
    "# 解释：\n",
    "## （1）本数据按照发行人行业可以分为：产业债（即是否为房地产债）、银行债、城投债\n",
    "## （2）按照评级大类可分为投资级和高收益\n",
    "## （3）按照标普评级可以分为AAA到C级，其中BBB及以上为投资级，BB+及以下为投机级"
   ]
  },
  {
   "cell_type": "markdown",
   "metadata": {},
   "source": [
    "## 2.产业债、银行、城投债与利差"
   ]
  },
  {
   "cell_type": "code",
   "execution_count": null,
   "metadata": {},
   "outputs": [],
   "source": []
  },
  {
   "cell_type": "markdown",
   "metadata": {},
   "source": [
    "### 2.1 2020年9月平均利差 分类散点图"
   ]
  },
  {
   "cell_type": "code",
   "execution_count": 47,
   "metadata": {},
   "outputs": [],
   "source": [
    "#解决中文乱码问题\n",
    "import seaborn as sns\n",
    "import matplotlib.pyplot as plt\n",
    "plt.rcParams['font.sans-serif'] = ['SimHei']  # 中文字体设置-黑体\n",
    "plt.rcParams['axes.unicode_minus'] = False  # 解决保存图像是负号'-'显示为方块的问题\n",
    "sns.set(font='SimHei')  # 解决Seaborn中文显示问题\n",
    "sns.set_style('whitegrid',{'font.sans-serif':['SimHei']})"
   ]
  },
  {
   "cell_type": "code",
   "execution_count": 50,
   "metadata": {},
   "outputs": [
    {
     "data": {
      "text/plain": [
       "<matplotlib.axes._subplots.AxesSubplot at 0x12d4b1f06d0>"
      ]
     },
     "execution_count": 50,
     "metadata": {},
     "output_type": "execute_result"
    },
    {
     "data": {
      "image/png": "[encoded data removed]",
      "text/plain": [
       "<Figure size 864x360 with 3 Axes>"
      ]
     },
     "metadata": {},
     "output_type": "display_data"
    }
   ],
   "source": [
    "spread['spread']= (spread['spread1']+ spread['spread2']+ spread['spread3']+ spread['spread4']+ spread['spread5'])/5\n",
    "ig, axes = plt.subplots(1,3,figsize=(12, 5),sharex=True, sharey=True)\n",
    "sns.stripplot(x=\"是否是产业债\", y=\"spread\", data=spread,alpha=0.5, ax=axes[0])\n",
    "sns.stripplot(x=\"是否是银行\", y=\"spread\", data=spread,alpha=0.5, ax=axes[1])\n",
    "sns.stripplot(x=\"是否是城投债\", y=\"spread\", data=spread,alpha=0.5, ax=axes[2])"
   ]
  },
  {
   "cell_type": "markdown",
   "metadata": {},
   "source": [
    " <mark style=background-color:red> comments\n",
    " \n",
    "**从上图中我们可以看出如果发行人是银行，利差会更加集中于较低的值，大多低于200dp**\n",
    "\n",
    "**地产债和城投债的利差分布更加分散，且利差较高** \n",
    "   "
   ]
  },
  {
   "cell_type": "markdown",
   "metadata": {},
   "source": [
    "### 2.2 每个分类的平均利差的时间序列分析"
   ]
  },
  {
   "cell_type": "code",
   "execution_count": 51,
   "metadata": {},
   "outputs": [],
   "source": [
    "#按不同分类方式求spread平均数  并转置\n",
    "a=pd.DataFrame(spread.groupby(['是否是银行'])[['spread1','spread2','spread3','spread4','spread5']].mean()).reset_index()\n",
    "a1=a.loc[a['是否是银行']==1]\n",
    "a1=a1.set_index(['是否是银行'])\n",
    "a1=a1.stack()\n",
    "a1.index=a1.index.rename('Time',level=1)\n",
    "a1.name='银行spread'\n",
    "a1=a1.reset_index()\n",
    "a2=a.loc[a['是否是银行']==0]\n",
    "a2=a2.set_index(['是否是银行'])\n",
    "a2=a2.stack()\n",
    "a2.index=a2.index.rename('Time',level=1)\n",
    "a2.name='非银行spread'\n",
    "a2=a2.reset_index()\n",
    "mean_analysis=pd.merge(a1,a2,on='Time')\n",
    "\n",
    "\n",
    "a=pd.DataFrame(spread.groupby(['是否是城投债'])[['spread1','spread2','spread3','spread4','spread5']].mean()).reset_index()\n",
    "a1=a.loc[a['是否是城投债']==1]\n",
    "a1=a1.set_index(['是否是城投债'])\n",
    "a1=a1.stack()\n",
    "a1.index=a1.index.rename('Time',level=1)\n",
    "a1.name='城投债spread'\n",
    "a1=a1.reset_index()\n",
    "a2=a.loc[a['是否是城投债']==0]\n",
    "a2=a2.set_index(['是否是城投债'])\n",
    "a2=a2.stack()\n",
    "a2.index=a2.index.rename('Time',level=1)\n",
    "a2.name='非城投债spread'\n",
    "a2=a2.reset_index()\n",
    "a=pd.merge(a1,a2,on='Time')\n",
    "mean_analysis=pd.merge(mean_analysis,a,on='Time')\n",
    "\n",
    "\n",
    "a=pd.DataFrame(spread.groupby(['是否是产业债'])[['spread1','spread2','spread3','spread4','spread5']].mean()).reset_index()\n",
    "a1=a.loc[a['是否是产业债']==1]\n",
    "a1=a1.set_index(['是否是产业债'])\n",
    "a1=a1.stack()\n",
    "a1.index=a1.index.rename('Time',level=1)\n",
    "a1.name='房地产债spread'\n",
    "a1=a1.reset_index()\n",
    "a2=a.loc[a['是否是产业债']==0]\n",
    "a2=a2.set_index(['是否是产业债'])\n",
    "a2=a2.stack()\n",
    "a2.index=a2.index.rename('Time',level=1)\n",
    "a2.name='非房地产债spread'\n",
    "a2=a2.reset_index()\n",
    "a=pd.merge(a1,a2,on='Time')\n",
    "mean_analysis=pd.merge(mean_analysis,a,on='Time')\n"
   ]
  },
  {
   "cell_type": "code",
   "execution_count": 52,
   "metadata": {},
   "outputs": [
    {
     "data": {
      "text/html": [
       "<div>\n",
       "<style scoped>\n",
       "    .dataframe tbody tr th:only-of-type {\n",
       "        vertical-align: middle;\n",
       "    }\n",
       "\n",
       "    .dataframe tbody tr th {\n",
       "        vertical-align: top;\n",
       "    }\n",
       "\n",
       "    .dataframe thead th {\n",
       "        text-align: right;\n",
       "    }\n",
       "</style>\n",
       "<table border=\"1\" class=\"dataframe\">\n",
       "  <thead>\n",
       "    <tr style=\"text-align: right;\">\n",
       "      <th></th>\n",
       "      <th>是否是银行_x</th>\n",
       "      <th>Time</th>\n",
       "      <th>银行spread</th>\n",
       "      <th>是否是银行_y</th>\n",
       "      <th>非银行spread</th>\n",
       "      <th>是否是城投债_x</th>\n",
       "      <th>城投债spread</th>\n",
       "      <th>是否是城投债_y</th>\n",
       "      <th>非城投债spread</th>\n",
       "      <th>是否是产业债_x</th>\n",
       "      <th>房地产债spread</th>\n",
       "      <th>是否是产业债_y</th>\n",
       "      <th>非房地产债spread</th>\n",
       "    </tr>\n",
       "  </thead>\n",
       "  <tbody>\n",
       "    <tr>\n",
       "      <th>0</th>\n",
       "      <td>1</td>\n",
       "      <td>spread1</td>\n",
       "      <td>105.242353</td>\n",
       "      <td>0</td>\n",
       "      <td>336.272496</td>\n",
       "      <td>1</td>\n",
       "      <td>363.813070</td>\n",
       "      <td>0</td>\n",
       "      <td>312.556066</td>\n",
       "      <td>1</td>\n",
       "      <td>470.924539</td>\n",
       "      <td>0</td>\n",
       "      <td>295.801737</td>\n",
       "    </tr>\n",
       "    <tr>\n",
       "      <th>1</th>\n",
       "      <td>1</td>\n",
       "      <td>spread2</td>\n",
       "      <td>107.248788</td>\n",
       "      <td>0</td>\n",
       "      <td>344.605393</td>\n",
       "      <td>1</td>\n",
       "      <td>357.230000</td>\n",
       "      <td>0</td>\n",
       "      <td>322.547973</td>\n",
       "      <td>1</td>\n",
       "      <td>481.064118</td>\n",
       "      <td>0</td>\n",
       "      <td>303.893018</td>\n",
       "    </tr>\n",
       "    <tr>\n",
       "      <th>2</th>\n",
       "      <td>1</td>\n",
       "      <td>spread3</td>\n",
       "      <td>106.001900</td>\n",
       "      <td>0</td>\n",
       "      <td>342.417064</td>\n",
       "      <td>1</td>\n",
       "      <td>352.240439</td>\n",
       "      <td>0</td>\n",
       "      <td>320.581631</td>\n",
       "      <td>1</td>\n",
       "      <td>480.795519</td>\n",
       "      <td>0</td>\n",
       "      <td>301.327669</td>\n",
       "    </tr>\n",
       "    <tr>\n",
       "      <th>3</th>\n",
       "      <td>1</td>\n",
       "      <td>spread4</td>\n",
       "      <td>107.688900</td>\n",
       "      <td>0</td>\n",
       "      <td>353.112419</td>\n",
       "      <td>1</td>\n",
       "      <td>352.361681</td>\n",
       "      <td>0</td>\n",
       "      <td>331.582914</td>\n",
       "      <td>1</td>\n",
       "      <td>487.933421</td>\n",
       "      <td>0</td>\n",
       "      <td>312.059417</td>\n",
       "    </tr>\n",
       "    <tr>\n",
       "      <th>4</th>\n",
       "      <td>1</td>\n",
       "      <td>spread5</td>\n",
       "      <td>103.595253</td>\n",
       "      <td>0</td>\n",
       "      <td>411.674905</td>\n",
       "      <td>1</td>\n",
       "      <td>350.563421</td>\n",
       "      <td>0</td>\n",
       "      <td>390.977300</td>\n",
       "      <td>1</td>\n",
       "      <td>510.289869</td>\n",
       "      <td>0</td>\n",
       "      <td>370.155801</td>\n",
       "    </tr>\n",
       "  </tbody>\n",
       "</table>\n",
       "</div>"
      ],
      "text/plain": [
       "   是否是银行_x     Time    银行spread  是否是银行_y   非银行spread  是否是城投债_x   城投债spread  \\\n",
       "0        1  spread1  105.242353        0  336.272496         1  363.813070   \n",
       "1        1  spread2  107.248788        0  344.605393         1  357.230000   \n",
       "2        1  spread3  106.001900        0  342.417064         1  352.240439   \n",
       "3        1  spread4  107.688900        0  353.112419         1  352.361681   \n",
       "4        1  spread5  103.595253        0  411.674905         1  350.563421   \n",
       "\n",
       "   是否是城投债_y  非城投债spread  是否是产业债_x  房地产债spread  是否是产业债_y  非房地产债spread  \n",
       "0         0  312.556066         1  470.924539         0   295.801737  \n",
       "1         0  322.547973         1  481.064118         0   303.893018  \n",
       "2         0  320.581631         1  480.795519         0   301.327669  \n",
       "3         0  331.582914         1  487.933421         0   312.059417  \n",
       "4         0  390.977300         1  510.289869         0   370.155801  "
      ]
     },
     "execution_count": 52,
     "metadata": {},
     "output_type": "execute_result"
    }
   ],
   "source": [
    "mean_analysis"
   ]
  },
  {
   "cell_type": "code",
   "execution_count": 53,
   "metadata": {},
   "outputs": [],
   "source": [
    "import datetime as dt\n",
    "mean_analysis.loc[mean_analysis['Time']=='spread1',['Time']]='2020-9-4'\n",
    "mean_analysis.loc[mean_analysis['Time']=='spread2',['Time']]='2020-9-11'\n",
    "mean_analysis.loc[mean_analysis['Time']=='spread3',['Time']]='2020-9-18'\n",
    "mean_analysis.loc[mean_analysis['Time']=='spread4',['Time']]='2020-9-25'\n",
    "mean_analysis.loc[mean_analysis['Time']=='spread5',['Time']]='2020-9-30'"
   ]
  },
  {
   "cell_type": "code",
   "execution_count": 54,
   "metadata": {},
   "outputs": [],
   "source": [
    "mean_analysis.to_excel('mean_analysis.xlsx', header=True,index=False)"
   ]
  },
  {
   "cell_type": "code",
   "execution_count": 55,
   "metadata": {},
   "outputs": [
    {
     "data": {
      "text/html": [
       "<div>\n",
       "<style scoped>\n",
       "    .dataframe tbody tr th:only-of-type {\n",
       "        vertical-align: middle;\n",
       "    }\n",
       "\n",
       "    .dataframe tbody tr th {\n",
       "        vertical-align: top;\n",
       "    }\n",
       "\n",
       "    .dataframe thead th {\n",
       "        text-align: right;\n",
       "    }\n",
       "</style>\n",
       "<table border=\"1\" class=\"dataframe\">\n",
       "  <thead>\n",
       "    <tr style=\"text-align: right;\">\n",
       "      <th></th>\n",
       "      <th>是否是银行_x</th>\n",
       "      <th>Time</th>\n",
       "      <th>银行spread</th>\n",
       "      <th>是否是银行_y</th>\n",
       "      <th>非银行spread</th>\n",
       "      <th>是否是城投债_x</th>\n",
       "      <th>城投债spread</th>\n",
       "      <th>是否是城投债_y</th>\n",
       "      <th>非城投债spread</th>\n",
       "      <th>是否是产业债_x</th>\n",
       "      <th>房地产债spread</th>\n",
       "      <th>是否是产业债_y</th>\n",
       "      <th>非房地产债spread</th>\n",
       "    </tr>\n",
       "  </thead>\n",
       "  <tbody>\n",
       "    <tr>\n",
       "      <th>0</th>\n",
       "      <td>1</td>\n",
       "      <td>2020-9-4</td>\n",
       "      <td>105.242353</td>\n",
       "      <td>0</td>\n",
       "      <td>336.272496</td>\n",
       "      <td>1</td>\n",
       "      <td>363.813070</td>\n",
       "      <td>0</td>\n",
       "      <td>312.556066</td>\n",
       "      <td>1</td>\n",
       "      <td>470.924539</td>\n",
       "      <td>0</td>\n",
       "      <td>295.801737</td>\n",
       "    </tr>\n",
       "    <tr>\n",
       "      <th>1</th>\n",
       "      <td>1</td>\n",
       "      <td>2020-9-11</td>\n",
       "      <td>107.248788</td>\n",
       "      <td>0</td>\n",
       "      <td>344.605393</td>\n",
       "      <td>1</td>\n",
       "      <td>357.230000</td>\n",
       "      <td>0</td>\n",
       "      <td>322.547973</td>\n",
       "      <td>1</td>\n",
       "      <td>481.064118</td>\n",
       "      <td>0</td>\n",
       "      <td>303.893018</td>\n",
       "    </tr>\n",
       "    <tr>\n",
       "      <th>2</th>\n",
       "      <td>1</td>\n",
       "      <td>2020-9-18</td>\n",
       "      <td>106.001900</td>\n",
       "      <td>0</td>\n",
       "      <td>342.417064</td>\n",
       "      <td>1</td>\n",
       "      <td>352.240439</td>\n",
       "      <td>0</td>\n",
       "      <td>320.581631</td>\n",
       "      <td>1</td>\n",
       "      <td>480.795519</td>\n",
       "      <td>0</td>\n",
       "      <td>301.327669</td>\n",
       "    </tr>\n",
       "    <tr>\n",
       "      <th>3</th>\n",
       "      <td>1</td>\n",
       "      <td>2020-9-25</td>\n",
       "      <td>107.688900</td>\n",
       "      <td>0</td>\n",
       "      <td>353.112419</td>\n",
       "      <td>1</td>\n",
       "      <td>352.361681</td>\n",
       "      <td>0</td>\n",
       "      <td>331.582914</td>\n",
       "      <td>1</td>\n",
       "      <td>487.933421</td>\n",
       "      <td>0</td>\n",
       "      <td>312.059417</td>\n",
       "    </tr>\n",
       "    <tr>\n",
       "      <th>4</th>\n",
       "      <td>1</td>\n",
       "      <td>2020-9-30</td>\n",
       "      <td>103.595253</td>\n",
       "      <td>0</td>\n",
       "      <td>411.674905</td>\n",
       "      <td>1</td>\n",
       "      <td>350.563421</td>\n",
       "      <td>0</td>\n",
       "      <td>390.977300</td>\n",
       "      <td>1</td>\n",
       "      <td>510.289869</td>\n",
       "      <td>0</td>\n",
       "      <td>370.155801</td>\n",
       "    </tr>\n",
       "  </tbody>\n",
       "</table>\n",
       "</div>"
      ],
      "text/plain": [
       "   是否是银行_x       Time    银行spread  是否是银行_y   非银行spread  是否是城投债_x   城投债spread  \\\n",
       "0        1   2020-9-4  105.242353        0  336.272496         1  363.813070   \n",
       "1        1  2020-9-11  107.248788        0  344.605393         1  357.230000   \n",
       "2        1  2020-9-18  106.001900        0  342.417064         1  352.240439   \n",
       "3        1  2020-9-25  107.688900        0  353.112419         1  352.361681   \n",
       "4        1  2020-9-30  103.595253        0  411.674905         1  350.563421   \n",
       "\n",
       "   是否是城投债_y  非城投债spread  是否是产业债_x  房地产债spread  是否是产业债_y  非房地产债spread  \n",
       "0         0  312.556066         1  470.924539         0   295.801737  \n",
       "1         0  322.547973         1  481.064118         0   303.893018  \n",
       "2         0  320.581631         1  480.795519         0   301.327669  \n",
       "3         0  331.582914         1  487.933421         0   312.059417  \n",
       "4         0  390.977300         1  510.289869         0   370.155801  "
      ]
     },
     "execution_count": 55,
     "metadata": {},
     "output_type": "execute_result"
    }
   ],
   "source": [
    "mean_analysis"
   ]
  },
  {
   "cell_type": "code",
   "execution_count": 57,
   "metadata": {},
   "outputs": [
    {
     "name": "stdout",
     "output_type": "stream",
     "text": [
      "Requirement already satisfied: plotly in c:\\users\\sufew\\anaconda3\\lib\\site-packages (4.11.0)\n",
      "Requirement already satisfied: retrying>=1.3.3 in c:\\users\\sufew\\anaconda3\\lib\\site-packages (from plotly) (1.3.3)\n",
      "Requirement already satisfied: six in c:\\users\\sufew\\anaconda3\\lib\\site-packages (from plotly) (1.15.0)\n"
     ]
    },
    {
     "data": {
      "application/vnd.plotly.v1+json": {
       "config": {
        "plotlyServerURL": "https://plot.ly"
       },
       "data": [
        {
         "hovertemplate": "variable=银行spread<br>Time=%{x}<br>value=%{y}<extra></extra>",
         "legendgroup": "银行spread",
         "line": {
          "color": "#636efa",
          "dash": "solid"
         },
         "mode": "lines",
         "name": "银行spread",
         "orientation": "v",
         "showlegend": true,
         "type": "scatter",
         "x": [
          "2020-9-4",
          "2020-9-11",
          "2020-9-18",
          "2020-9-25",
          "2020-9-30"
         ],
         "xaxis": "x",
         "y": [
          105.2423529411764,
          107.2487878787879,
          106.0019,
          107.6889,
          103.5952525252525
         ],
         "yaxis": "y"
        },
        {
         "hovertemplate": "variable=非银行spread<br>Time=%{x}<br>value=%{y}<extra></extra>",
         "legendgroup": "非银行spread",
         "line": {
          "color": "#EF553B",
          "dash": "solid"
         },
         "mode": "lines",
         "name": "非银行spread",
         "orientation": "v",
         "showlegend": true,
         "type": "scatter",
         "x": [
          "2020-9-4",
          "2020-9-11",
          "2020-9-18",
          "2020-9-25",
          "2020-9-30"
         ],
         "xaxis": "x",
         "y": [
          336.2724956063272,
          344.605393356643,
          342.4170644599305,
          353.112419495213,
          411.6749045138886
         ],
         "yaxis": "y"
        },
        {
         "hovertemplate": "variable=城投债spread<br>Time=%{x}<br>value=%{y}<extra></extra>",
         "legendgroup": "城投债spread",
         "line": {
          "color": "#00cc96",
          "dash": "solid"
         },
         "mode": "lines",
         "name": "城投债spread",
         "orientation": "v",
         "showlegend": true,
         "type": "scatter",
         "x": [
          "2020-9-4",
          "2020-9-11",
          "2020-9-18",
          "2020-9-25",
          "2020-9-30"
         ],
         "xaxis": "x",
         "y": [
          363.8130701754386,
          357.23,
          352.2404385964912,
          352.3616814159292,
          350.5634210526316
         ],
         "yaxis": "y"
        },
        {
         "hovertemplate": "variable=非城投债spread<br>Time=%{x}<br>value=%{y}<extra></extra>",
         "legendgroup": "非城投债spread",
         "line": {
          "color": "#ab63fa",
          "dash": "solid"
         },
         "mode": "lines",
         "name": "非城投债spread",
         "orientation": "v",
         "showlegend": true,
         "type": "scatter",
         "x": [
          "2020-9-4",
          "2020-9-11",
          "2020-9-18",
          "2020-9-25",
          "2020-9-30"
         ],
         "xaxis": "x",
         "y": [
          312.5560657193607,
          322.5479734513272,
          320.5816313932983,
          331.5829137323942,
          390.9772999120491
         ],
         "yaxis": "y"
        },
        {
         "hovertemplate": "variable=房地产债spread<br>Time=%{x}<br>value=%{y}<extra></extra>",
         "legendgroup": "房地产债spread",
         "line": {
          "color": "#FFA15A",
          "dash": "solid"
         },
         "mode": "lines",
         "name": "房地产债spread",
         "orientation": "v",
         "showlegend": true,
         "type": "scatter",
         "x": [
          "2020-9-4",
          "2020-9-11",
          "2020-9-18",
          "2020-9-25",
          "2020-9-30"
         ],
         "xaxis": "x",
         "y": [
          470.9245394736844,
          481.0641176470588,
          480.7955194805194,
          487.9334210526316,
          510.2898692810459
         ],
         "yaxis": "y"
        },
        {
         "hovertemplate": "variable=非房地产债spread<br>Time=%{x}<br>value=%{y}<extra></extra>",
         "legendgroup": "非房地产债spread",
         "line": {
          "color": "#19d3f3",
          "dash": "solid"
         },
         "mode": "lines",
         "name": "非房地产债spread",
         "orientation": "v",
         "showlegend": true,
         "type": "scatter",
         "x": [
          "2020-9-4",
          "2020-9-11",
          "2020-9-18",
          "2020-9-25",
          "2020-9-30"
         ],
         "xaxis": "x",
         "y": [
          295.8017371323529,
          303.8930183486236,
          301.327669104205,
          312.0594165907019,
          370.1558014571947
         ],
         "yaxis": "y"
        }
       ],
       "layout": {
        "legend": {
         "title": {
          "text": "variable"
         },
         "tracegroupgap": 0
        },
        "template": {
         "data": {
          "bar": [
           {
            "error_x": {
             "color": "#2a3f5f"
            },
            "error_y": {
             "color": "#2a3f5f"
            },
            "marker": {
             "line": {
              "color": "#E5ECF6",
              "width": 0.5
             }
            },
            "type": "bar"
           }
          ],
          "barpolar": [
           {
            "marker": {
             "line": {
              "color": "#E5ECF6",
              "width": 0.5
             }
            },
            "type": "barpolar"
           }
          ],
          "carpet": [
           {
            "aaxis": {
             "endlinecolor": "#2a3f5f",
             "gridcolor": "white",
             "linecolor": "white",
             "minorgridcolor": "white",
             "startlinecolor": "#2a3f5f"
            },
            "baxis": {
             "endlinecolor": "#2a3f5f",
             "gridcolor": "white",
             "linecolor": "white",
             "minorgridcolor": "white",
             "startlinecolor": "#2a3f5f"
            },
            "type": "carpet"
           }
          ],
          "choropleth": [
           {
            "colorbar": {
             "outlinewidth": 0,
             "ticks": ""
            },
            "type": "choropleth"
           }
          ],
          "contour": [
           {
            "colorbar": {
             "outlinewidth": 0,
             "ticks": ""
            },
            "colorscale": [
             [
              0,
              "#0d0887"
             ],
             [
              0.1111111111111111,
              "#46039f"
             ],
             [
              0.2222222222222222,
              "#7201a8"
             ],
             [
              0.3333333333333333,
              "#9c179e"
             ],
             [
              0.4444444444444444,
              "#bd3786"
             ],
             [
              0.5555555555555556,
              "#d8576b"
             ],
             [
              0.6666666666666666,
              "#ed7953"
             ],
             [
              0.7777777777777778,
              "#fb9f3a"
             ],
             [
              0.8888888888888888,
              "#fdca26"
             ],
             [
              1,
              "#f0f921"
             ]
            ],
            "type": "contour"
           }
          ],
          "contourcarpet": [
           {
            "colorbar": {
             "outlinewidth": 0,
             "ticks": ""
            },
            "type": "contourcarpet"
           }
          ],
          "heatmap": [
           {
            "colorbar": {
             "outlinewidth": 0,
             "ticks": ""
            },
            "colorscale": [
             [
              0,
              "#0d0887"
             ],
             [
              0.1111111111111111,
              "#46039f"
             ],
             [
              0.2222222222222222,
              "#7201a8"
             ],
             [
              0.3333333333333333,
              "#9c179e"
             ],
             [
              0.4444444444444444,
              "#bd3786"
             ],
             [
              0.5555555555555556,
              "#d8576b"
             ],
             [
              0.6666666666666666,
              "#ed7953"
             ],
             [
              0.7777777777777778,
              "#fb9f3a"
             ],
             [
              0.8888888888888888,
              "#fdca26"
             ],
             [
              1,
              "#f0f921"
             ]
            ],
            "type": "heatmap"
           }
          ],
          "heatmapgl": [
           {
            "colorbar": {
             "outlinewidth": 0,
             "ticks": ""
            },
            "colorscale": [
             [
              0,
              "#0d0887"
             ],
             [
              0.1111111111111111,
              "#46039f"
             ],
             [
              0.2222222222222222,
              "#7201a8"
             ],
             [
              0.3333333333333333,
              "#9c179e"
             ],
             [
              0.4444444444444444,
              "#bd3786"
             ],
             [
              0.5555555555555556,
              "#d8576b"
             ],
             [
              0.6666666666666666,
              "#ed7953"
             ],
             [
              0.7777777777777778,
              "#fb9f3a"
             ],
             [
              0.8888888888888888,
              "#fdca26"
             ],
             [
              1,
              "#f0f921"
             ]
            ],
            "type": "heatmapgl"
           }
          ],
          "histogram": [
           {
            "marker": {
             "colorbar": {
              "outlinewidth": 0,
              "ticks": ""
             }
            },
            "type": "histogram"
           }
          ],
          "histogram2d": [
           {
            "colorbar": {
             "outlinewidth": 0,
             "ticks": ""
            },
            "colorscale": [
             [
              0,
              "#0d0887"
             ],
             [
              0.1111111111111111,
              "#46039f"
             ],
             [
              0.2222222222222222,
              "#7201a8"
             ],
             [
              0.3333333333333333,
              "#9c179e"
             ],
             [
              0.4444444444444444,
              "#bd3786"
             ],
             [
              0.5555555555555556,
              "#d8576b"
             ],
             [
              0.6666666666666666,
              "#ed7953"
             ],
             [
              0.7777777777777778,
              "#fb9f3a"
             ],
             [
              0.8888888888888888,
              "#fdca26"
             ],
             [
              1,
              "#f0f921"
             ]
            ],
            "type": "histogram2d"
           }
          ],
          "histogram2dcontour": [
           {
            "colorbar": {
             "outlinewidth": 0,
             "ticks": ""
            },
            "colorscale": [
             [
              0,
              "#0d0887"
             ],
             [
              0.1111111111111111,
              "#46039f"
             ],
             [
              0.2222222222222222,
              "#7201a8"
             ],
             [
              0.3333333333333333,
              "#9c179e"
             ],
             [
              0.4444444444444444,
              "#bd3786"
             ],
             [
              0.5555555555555556,
              "#d8576b"
             ],
             [
              0.6666666666666666,
              "#ed7953"
             ],
             [
              0.7777777777777778,
              "#fb9f3a"
             ],
             [
              0.8888888888888888,
              "#fdca26"
             ],
             [
              1,
              "#f0f921"
             ]
            ],
            "type": "histogram2dcontour"
           }
          ],
          "mesh3d": [
           {
            "colorbar": {
             "outlinewidth": 0,
             "ticks": ""
            },
            "type": "mesh3d"
           }
          ],
          "parcoords": [
           {
            "line": {
             "colorbar": {
              "outlinewidth": 0,
              "ticks": ""
             }
            },
            "type": "parcoords"
           }
          ],
          "pie": [
           {
            "automargin": true,
            "type": "pie"
           }
          ],
          "scatter": [
           {
            "marker": {
             "colorbar": {
              "outlinewidth": 0,
              "ticks": ""
             }
            },
            "type": "scatter"
           }
          ],
          "scatter3d": [
           {
            "line": {
             "colorbar": {
              "outlinewidth": 0,
              "ticks": ""
             }
            },
            "marker": {
             "colorbar": {
              "outlinewidth": 0,
              "ticks": ""
             }
            },
            "type": "scatter3d"
           }
          ],
          "scattercarpet": [
           {
            "marker": {
             "colorbar": {
              "outlinewidth": 0,
              "ticks": ""
             }
            },
            "type": "scattercarpet"
           }
          ],
          "scattergeo": [
           {
            "marker": {
             "colorbar": {
              "outlinewidth": 0,
              "ticks": ""
             }
            },
            "type": "scattergeo"
           }
          ],
          "scattergl": [
           {
            "marker": {
             "colorbar": {
              "outlinewidth": 0,
              "ticks": ""
             }
            },
            "type": "scattergl"
           }
          ],
          "scattermapbox": [
           {
            "marker": {
             "colorbar": {
              "outlinewidth": 0,
              "ticks": ""
             }
            },
            "type": "scattermapbox"
           }
          ],
          "scatterpolar": [
           {
            "marker": {
             "colorbar": {
              "outlinewidth": 0,
              "ticks": ""
             }
            },
            "type": "scatterpolar"
           }
          ],
          "scatterpolargl": [
           {
            "marker": {
             "colorbar": {
              "outlinewidth": 0,
              "ticks": ""
             }
            },
            "type": "scatterpolargl"
           }
          ],
          "scatterternary": [
           {
            "marker": {
             "colorbar": {
              "outlinewidth": 0,
              "ticks": ""
             }
            },
            "type": "scatterternary"
           }
          ],
          "surface": [
           {
            "colorbar": {
             "outlinewidth": 0,
             "ticks": ""
            },
            "colorscale": [
             [
              0,
              "#0d0887"
             ],
             [
              0.1111111111111111,
              "#46039f"
             ],
             [
              0.2222222222222222,
              "#7201a8"
             ],
             [
              0.3333333333333333,
              "#9c179e"
             ],
             [
              0.4444444444444444,
              "#bd3786"
             ],
             [
              0.5555555555555556,
              "#d8576b"
             ],
             [
              0.6666666666666666,
              "#ed7953"
             ],
             [
              0.7777777777777778,
              "#fb9f3a"
             ],
             [
              0.8888888888888888,
              "#fdca26"
             ],
             [
              1,
              "#f0f921"
             ]
            ],
            "type": "surface"
           }
          ],
          "table": [
           {
            "cells": {
             "fill": {
              "color": "#EBF0F8"
             },
             "line": {
              "color": "white"
             }
            },
            "header": {
             "fill": {
              "color": "#C8D4E3"
             },
             "line": {
              "color": "white"
             }
            },
            "type": "table"
           }
          ]
         },
         "layout": {
          "annotationdefaults": {
           "arrowcolor": "#2a3f5f",
           "arrowhead": 0,
           "arrowwidth": 1
          },
          "coloraxis": {
           "colorbar": {
            "outlinewidth": 0,
            "ticks": ""
           }
          },
          "colorscale": {
           "diverging": [
            [
             0,
             "#8e0152"
            ],
            [
             0.1,
             "#c51b7d"
            ],
            [
             0.2,
             "#de77ae"
            ],
            [
             0.3,
             "#f1b6da"
            ],
            [
             0.4,
             "#fde0ef"
            ],
            [
             0.5,
             "#f7f7f7"
            ],
            [
             0.6,
             "#e6f5d0"
            ],
            [
             0.7,
             "#b8e186"
            ],
            [
             0.8,
             "#7fbc41"
            ],
            [
             0.9,
             "#4d9221"
            ],
            [
             1,
             "#276419"
            ]
           ],
           "sequential": [
            [
             0,
             "#0d0887"
            ],
            [
             0.1111111111111111,
             "#46039f"
            ],
            [
             0.2222222222222222,
             "#7201a8"
            ],
            [
             0.3333333333333333,
             "#9c179e"
            ],
            [
             0.4444444444444444,
             "#bd3786"
            ],
            [
             0.5555555555555556,
             "#d8576b"
            ],
            [
             0.6666666666666666,
             "#ed7953"
            ],
            [
             0.7777777777777778,
             "#fb9f3a"
            ],
            [
             0.8888888888888888,
             "#fdca26"
            ],
            [
             1,
             "#f0f921"
            ]
           ],
           "sequentialminus": [
            [
             0,
             "#0d0887"
            ],
            [
             0.1111111111111111,
             "#46039f"
            ],
            [
             0.2222222222222222,
             "#7201a8"
            ],
            [
             0.3333333333333333,
             "#9c179e"
            ],
            [
             0.4444444444444444,
             "#bd3786"
            ],
            [
             0.5555555555555556,
             "#d8576b"
            ],
            [
             0.6666666666666666,
             "#ed7953"
            ],
            [
             0.7777777777777778,
             "#fb9f3a"
            ],
            [
             0.8888888888888888,
             "#fdca26"
            ],
            [
             1,
             "#f0f921"
            ]
           ]
          },
          "colorway": [
           "#636efa",
           "#EF553B",
           "#00cc96",
           "#ab63fa",
           "#FFA15A",
           "#19d3f3",
           "#FF6692",
           "#B6E880",
           "#FF97FF",
           "#FECB52"
          ],
          "font": {
           "color": "#2a3f5f"
          },
          "geo": {
           "bgcolor": "white",
           "lakecolor": "white",
           "landcolor": "#E5ECF6",
           "showlakes": true,
           "showland": true,
           "subunitcolor": "white"
          },
          "hoverlabel": {
           "align": "left"
          },
          "hovermode": "closest",
          "mapbox": {
           "style": "light"
          },
          "paper_bgcolor": "white",
          "plot_bgcolor": "#E5ECF6",
          "polar": {
           "angularaxis": {
            "gridcolor": "white",
            "linecolor": "white",
            "ticks": ""
           },
           "bgcolor": "#E5ECF6",
           "radialaxis": {
            "gridcolor": "white",
            "linecolor": "white",
            "ticks": ""
           }
          },
          "scene": {
           "xaxis": {
            "backgroundcolor": "#E5ECF6",
            "gridcolor": "white",
            "gridwidth": 2,
            "linecolor": "white",
            "showbackground": true,
            "ticks": "",
            "zerolinecolor": "white"
           },
           "yaxis": {
            "backgroundcolor": "#E5ECF6",
            "gridcolor": "white",
            "gridwidth": 2,
            "linecolor": "white",
            "showbackground": true,
            "ticks": "",
            "zerolinecolor": "white"
           },
           "zaxis": {
            "backgroundcolor": "#E5ECF6",
            "gridcolor": "white",
            "gridwidth": 2,
            "linecolor": "white",
            "showbackground": true,
            "ticks": "",
            "zerolinecolor": "white"
           }
          },
          "shapedefaults": {
           "line": {
            "color": "#2a3f5f"
           }
          },
          "ternary": {
           "aaxis": {
            "gridcolor": "white",
            "linecolor": "white",
            "ticks": ""
           },
           "baxis": {
            "gridcolor": "white",
            "linecolor": "white",
            "ticks": ""
           },
           "bgcolor": "#E5ECF6",
           "caxis": {
            "gridcolor": "white",
            "linecolor": "white",
            "ticks": ""
           }
          },
          "title": {
           "x": 0.05
          },
          "xaxis": {
           "automargin": true,
           "gridcolor": "white",
           "linecolor": "white",
           "ticks": "",
           "title": {
            "standoff": 15
           },
           "zerolinecolor": "white",
           "zerolinewidth": 2
          },
          "yaxis": {
           "automargin": true,
           "gridcolor": "white",
           "linecolor": "white",
           "ticks": "",
           "title": {
            "standoff": 15
           },
           "zerolinecolor": "white",
           "zerolinewidth": 2
          }
         }
        },
        "title": {
         "text": "Mean Analysis"
        },
        "xaxis": {
         "anchor": "y",
         "domain": [
          0,
          1
         ],
         "title": {
          "text": "Time"
         }
        },
        "yaxis": {
         "anchor": "x",
         "domain": [
          0,
          1
         ],
         "title": {
          "text": "value"
         }
        }
       }
      },
      "text/html": [
       "<div>                            <div id=\"84552fc1-b4f7-4df3-acec-418e6f3d2809\" class=\"plotly-graph-div\" style=\"height:525px; width:100%;\"></div>            <script type=\"text/javascript\">                require([\"plotly\"], function(Plotly) {                    window.PLOTLYENV=window.PLOTLYENV || {};                                    if (document.getElementById(\"84552fc1-b4f7-4df3-acec-418e6f3d2809\")) {                    Plotly.newPlot(                        \"84552fc1-b4f7-4df3-acec-418e6f3d2809\",                        [{\"hovertemplate\": \"variable=\\u94f6\\u884cspread<br>Time=%{x}<br>value=%{y}<extra></extra>\", \"legendgroup\": \"\\u94f6\\u884cspread\", \"line\": {\"color\": \"#636efa\", \"dash\": \"solid\"}, \"mode\": \"lines\", \"name\": \"\\u94f6\\u884cspread\", \"orientation\": \"v\", \"showlegend\": true, \"type\": \"scatter\", \"x\": [\"2020-9-4\", \"2020-9-11\", \"2020-9-18\", \"2020-9-25\", \"2020-9-30\"], \"xaxis\": \"x\", \"y\": [105.2423529411764, 107.2487878787879, 106.0019, 107.6889, 103.5952525252525], \"yaxis\": \"y\"}, {\"hovertemplate\": \"variable=\\u975e\\u94f6\\u884cspread<br>Time=%{x}<br>value=%{y}<extra></extra>\", \"legendgroup\": \"\\u975e\\u94f6\\u884cspread\", \"line\": {\"color\": \"#EF553B\", \"dash\": \"solid\"}, \"mode\": \"lines\", \"name\": \"\\u975e\\u94f6\\u884cspread\", \"orientation\": \"v\", \"showlegend\": true, \"type\": \"scatter\", \"x\": [\"2020-9-4\", \"2020-9-11\", \"2020-9-18\", \"2020-9-25\", \"2020-9-30\"], \"xaxis\": \"x\", \"y\": [336.2724956063272, 344.605393356643, 342.4170644599305, 353.112419495213, 411.6749045138886], \"yaxis\": \"y\"}, {\"hovertemplate\": \"variable=\\u57ce\\u6295\\u503aspread<br>Time=%{x}<br>value=%{y}<extra></extra>\", \"legendgroup\": \"\\u57ce\\u6295\\u503aspread\", \"line\": {\"color\": \"#00cc96\", \"dash\": \"solid\"}, \"mode\": \"lines\", \"name\": \"\\u57ce\\u6295\\u503aspread\", \"orientation\": \"v\", \"showlegend\": true, \"type\": \"scatter\", \"x\": [\"2020-9-4\", \"2020-9-11\", \"2020-9-18\", \"2020-9-25\", \"2020-9-30\"], \"xaxis\": \"x\", \"y\": [363.8130701754386, 357.23, 352.2404385964912, 352.3616814159292, 350.5634210526316], \"yaxis\": \"y\"}, {\"hovertemplate\": \"variable=\\u975e\\u57ce\\u6295\\u503aspread<br>Time=%{x}<br>value=%{y}<extra></extra>\", \"legendgroup\": \"\\u975e\\u57ce\\u6295\\u503aspread\", \"line\": {\"color\": \"#ab63fa\", \"dash\": \"solid\"}, \"mode\": \"lines\", \"name\": \"\\u975e\\u57ce\\u6295\\u503aspread\", \"orientation\": \"v\", \"showlegend\": true, \"type\": \"scatter\", \"x\": [\"2020-9-4\", \"2020-9-11\", \"2020-9-18\", \"2020-9-25\", \"2020-9-30\"], \"xaxis\": \"x\", \"y\": [312.5560657193607, 322.5479734513272, 320.5816313932983, 331.5829137323942, 390.9772999120491], \"yaxis\": \"y\"}, {\"hovertemplate\": \"variable=\\u623f\\u5730\\u4ea7\\u503aspread<br>Time=%{x}<br>value=%{y}<extra></extra>\", \"legendgroup\": \"\\u623f\\u5730\\u4ea7\\u503aspread\", \"line\": {\"color\": \"#FFA15A\", \"dash\": \"solid\"}, \"mode\": \"lines\", \"name\": \"\\u623f\\u5730\\u4ea7\\u503aspread\", \"orientation\": \"v\", \"showlegend\": true, \"type\": \"scatter\", \"x\": [\"2020-9-4\", \"2020-9-11\", \"2020-9-18\", \"2020-9-25\", \"2020-9-30\"], \"xaxis\": \"x\", \"y\": [470.9245394736844, 481.0641176470588, 480.7955194805194, 487.9334210526316, 510.2898692810459], \"yaxis\": \"y\"}, {\"hovertemplate\": \"variable=\\u975e\\u623f\\u5730\\u4ea7\\u503aspread<br>Time=%{x}<br>value=%{y}<extra></extra>\", \"legendgroup\": \"\\u975e\\u623f\\u5730\\u4ea7\\u503aspread\", \"line\": {\"color\": \"#19d3f3\", \"dash\": \"solid\"}, \"mode\": \"lines\", \"name\": \"\\u975e\\u623f\\u5730\\u4ea7\\u503aspread\", \"orientation\": \"v\", \"showlegend\": true, \"type\": \"scatter\", \"x\": [\"2020-9-4\", \"2020-9-11\", \"2020-9-18\", \"2020-9-25\", \"2020-9-30\"], \"xaxis\": \"x\", \"y\": [295.8017371323529, 303.8930183486236, 301.327669104205, 312.0594165907019, 370.1558014571947], \"yaxis\": \"y\"}],                        {\"legend\": {\"title\": {\"text\": \"variable\"}, \"tracegroupgap\": 0}, \"template\": {\"data\": {\"bar\": [{\"error_x\": {\"color\": \"#2a3f5f\"}, \"error_y\": {\"color\": \"#2a3f5f\"}, \"marker\": {\"line\": {\"color\": \"#E5ECF6\", \"width\": 0.5}}, \"type\": \"bar\"}], \"barpolar\": [{\"marker\": {\"line\": {\"color\": \"#E5ECF6\", \"width\": 0.5}}, \"type\": \"barpolar\"}], \"carpet\": [{\"aaxis\": {\"endlinecolor\": \"#2a3f5f\", \"gridcolor\": \"white\", \"linecolor\": \"white\", \"minorgridcolor\": \"white\", \"startlinecolor\": \"#2a3f5f\"}, \"baxis\": {\"endlinecolor\": \"#2a3f5f\", \"gridcolor\": \"white\", \"linecolor\": \"white\", \"minorgridcolor\": \"white\", \"startlinecolor\": \"#2a3f5f\"}, \"type\": \"carpet\"}], \"choropleth\": [{\"colorbar\": {\"outlinewidth\": 0, \"ticks\": \"\"}, \"type\": \"choropleth\"}], \"contour\": [{\"colorbar\": {\"outlinewidth\": 0, \"ticks\": \"\"}, \"colorscale\": [[0.0, \"#0d0887\"], [0.1111111111111111, \"#46039f\"], [0.2222222222222222, \"#7201a8\"], [0.3333333333333333, \"#9c179e\"], [0.4444444444444444, \"#bd3786\"], [0.5555555555555556, \"#d8576b\"], [0.6666666666666666, \"#ed7953\"], [0.7777777777777778, \"#fb9f3a\"], [0.8888888888888888, \"#fdca26\"], [1.0, \"#f0f921\"]], \"type\": \"contour\"}], \"contourcarpet\": [{\"colorbar\": {\"outlinewidth\": 0, \"ticks\": \"\"}, \"type\": \"contourcarpet\"}], \"heatmap\": [{\"colorbar\": {\"outlinewidth\": 0, \"ticks\": \"\"}, \"colorscale\": [[0.0, \"#0d0887\"], [0.1111111111111111, \"#46039f\"], [0.2222222222222222, \"#7201a8\"], [0.3333333333333333, \"#9c179e\"], [0.4444444444444444, \"#bd3786\"], [0.5555555555555556, \"#d8576b\"], [0.6666666666666666, \"#ed7953\"], [0.7777777777777778, \"#fb9f3a\"], [0.8888888888888888, \"#fdca26\"], [1.0, \"#f0f921\"]], \"type\": \"heatmap\"}], \"heatmapgl\": [{\"colorbar\": {\"outlinewidth\": 0, \"ticks\": \"\"}, \"colorscale\": [[0.0, \"#0d0887\"], [0.1111111111111111, \"#46039f\"], [0.2222222222222222, \"#7201a8\"], [0.3333333333333333, \"#9c179e\"], [0.4444444444444444, \"#bd3786\"], [0.5555555555555556, \"#d8576b\"], [0.6666666666666666, \"#ed7953\"], [0.7777777777777778, \"#fb9f3a\"], [0.8888888888888888, \"#fdca26\"], [1.0, \"#f0f921\"]], \"type\": \"heatmapgl\"}], \"histogram\": [{\"marker\": {\"colorbar\": {\"outlinewidth\": 0, \"ticks\": \"\"}}, \"type\": \"histogram\"}], \"histogram2d\": [{\"colorbar\": {\"outlinewidth\": 0, \"ticks\": \"\"}, \"colorscale\": [[0.0, \"#0d0887\"], [0.1111111111111111, \"#46039f\"], [0.2222222222222222, \"#7201a8\"], [0.3333333333333333, \"#9c179e\"], [0.4444444444444444, \"#bd3786\"], [0.5555555555555556, \"#d8576b\"], [0.6666666666666666, \"#ed7953\"], [0.7777777777777778, \"#fb9f3a\"], [0.8888888888888888, \"#fdca26\"], [1.0, \"#f0f921\"]], \"type\": \"histogram2d\"}], \"histogram2dcontour\": [{\"colorbar\": {\"outlinewidth\": 0, \"ticks\": \"\"}, \"colorscale\": [[0.0, \"#0d0887\"], [0.1111111111111111, \"#46039f\"], [0.2222222222222222, \"#7201a8\"], [0.3333333333333333, \"#9c179e\"], [0.4444444444444444, \"#bd3786\"], [0.5555555555555556, \"#d8576b\"], [0.6666666666666666, \"#ed7953\"], [0.7777777777777778, \"#fb9f3a\"], [0.8888888888888888, \"#fdca26\"], [1.0, \"#f0f921\"]], \"type\": \"histogram2dcontour\"}], \"mesh3d\": [{\"colorbar\": {\"outlinewidth\": 0, \"ticks\": \"\"}, \"type\": \"mesh3d\"}], \"parcoords\": [{\"line\": {\"colorbar\": {\"outlinewidth\": 0, \"ticks\": \"\"}}, \"type\": \"parcoords\"}], \"pie\": [{\"automargin\": true, \"type\": \"pie\"}], \"scatter\": [{\"marker\": {\"colorbar\": {\"outlinewidth\": 0, \"ticks\": \"\"}}, \"type\": \"scatter\"}], \"scatter3d\": [{\"line\": {\"colorbar\": {\"outlinewidth\": 0, \"ticks\": \"\"}}, \"marker\": {\"colorbar\": {\"outlinewidth\": 0, \"ticks\": \"\"}}, \"type\": \"scatter3d\"}], \"scattercarpet\": [{\"marker\": {\"colorbar\": {\"outlinewidth\": 0, \"ticks\": \"\"}}, \"type\": \"scattercarpet\"}], \"scattergeo\": [{\"marker\": {\"colorbar\": {\"outlinewidth\": 0, \"ticks\": \"\"}}, \"type\": \"scattergeo\"}], \"scattergl\": [{\"marker\": {\"colorbar\": {\"outlinewidth\": 0, \"ticks\": \"\"}}, \"type\": \"scattergl\"}], \"scattermapbox\": [{\"marker\": {\"colorbar\": {\"outlinewidth\": 0, \"ticks\": \"\"}}, \"type\": \"scattermapbox\"}], \"scatterpolar\": [{\"marker\": {\"colorbar\": {\"outlinewidth\": 0, \"ticks\": \"\"}}, \"type\": \"scatterpolar\"}], \"scatterpolargl\": [{\"marker\": {\"colorbar\": {\"outlinewidth\": 0, \"ticks\": \"\"}}, \"type\": \"scatterpolargl\"}], \"scatterternary\": [{\"marker\": {\"colorbar\": {\"outlinewidth\": 0, \"ticks\": \"\"}}, \"type\": \"scatterternary\"}], \"surface\": [{\"colorbar\": {\"outlinewidth\": 0, \"ticks\": \"\"}, \"colorscale\": [[0.0, \"#0d0887\"], [0.1111111111111111, \"#46039f\"], [0.2222222222222222, \"#7201a8\"], [0.3333333333333333, \"#9c179e\"], [0.4444444444444444, \"#bd3786\"], [0.5555555555555556, \"#d8576b\"], [0.6666666666666666, \"#ed7953\"], [0.7777777777777778, \"#fb9f3a\"], [0.8888888888888888, \"#fdca26\"], [1.0, \"#f0f921\"]], \"type\": \"surface\"}], \"table\": [{\"cells\": {\"fill\": {\"color\": \"#EBF0F8\"}, \"line\": {\"color\": \"white\"}}, \"header\": {\"fill\": {\"color\": \"#C8D4E3\"}, \"line\": {\"color\": \"white\"}}, \"type\": \"table\"}]}, \"layout\": {\"annotationdefaults\": {\"arrowcolor\": \"#2a3f5f\", \"arrowhead\": 0, \"arrowwidth\": 1}, \"coloraxis\": {\"colorbar\": {\"outlinewidth\": 0, \"ticks\": \"\"}}, \"colorscale\": {\"diverging\": [[0, \"#8e0152\"], [0.1, \"#c51b7d\"], [0.2, \"#de77ae\"], [0.3, \"#f1b6da\"], [0.4, \"#fde0ef\"], [0.5, \"#f7f7f7\"], [0.6, \"#e6f5d0\"], [0.7, \"#b8e186\"], [0.8, \"#7fbc41\"], [0.9, \"#4d9221\"], [1, \"#276419\"]], \"sequential\": [[0.0, \"#0d0887\"], [0.1111111111111111, \"#46039f\"], [0.2222222222222222, \"#7201a8\"], [0.3333333333333333, \"#9c179e\"], [0.4444444444444444, \"#bd3786\"], [0.5555555555555556, \"#d8576b\"], [0.6666666666666666, \"#ed7953\"], [0.7777777777777778, \"#fb9f3a\"], [0.8888888888888888, \"#fdca26\"], [1.0, \"#f0f921\"]], \"sequentialminus\": [[0.0, \"#0d0887\"], [0.1111111111111111, \"#46039f\"], [0.2222222222222222, \"#7201a8\"], [0.3333333333333333, \"#9c179e\"], [0.4444444444444444, \"#bd3786\"], [0.5555555555555556, \"#d8576b\"], [0.6666666666666666, \"#ed7953\"], [0.7777777777777778, \"#fb9f3a\"], [0.8888888888888888, \"#fdca26\"], [1.0, \"#f0f921\"]]}, \"colorway\": [\"#636efa\", \"#EF553B\", \"#00cc96\", \"#ab63fa\", \"#FFA15A\", \"#19d3f3\", \"#FF6692\", \"#B6E880\", \"#FF97FF\", \"#FECB52\"], \"font\": {\"color\": \"#2a3f5f\"}, \"geo\": {\"bgcolor\": \"white\", \"lakecolor\": \"white\", \"landcolor\": \"#E5ECF6\", \"showlakes\": true, \"showland\": true, \"subunitcolor\": \"white\"}, \"hoverlabel\": {\"align\": \"left\"}, \"hovermode\": \"closest\", \"mapbox\": {\"style\": \"light\"}, \"paper_bgcolor\": \"white\", \"plot_bgcolor\": \"#E5ECF6\", \"polar\": {\"angularaxis\": {\"gridcolor\": \"white\", \"linecolor\": \"white\", \"ticks\": \"\"}, \"bgcolor\": \"#E5ECF6\", \"radialaxis\": {\"gridcolor\": \"white\", \"linecolor\": \"white\", \"ticks\": \"\"}}, \"scene\": {\"xaxis\": {\"backgroundcolor\": \"#E5ECF6\", \"gridcolor\": \"white\", \"gridwidth\": 2, \"linecolor\": \"white\", \"showbackground\": true, \"ticks\": \"\", \"zerolinecolor\": \"white\"}, \"yaxis\": {\"backgroundcolor\": \"#E5ECF6\", \"gridcolor\": \"white\", \"gridwidth\": 2, \"linecolor\": \"white\", \"showbackground\": true, \"ticks\": \"\", \"zerolinecolor\": \"white\"}, \"zaxis\": {\"backgroundcolor\": \"#E5ECF6\", \"gridcolor\": \"white\", \"gridwidth\": 2, \"linecolor\": \"white\", \"showbackground\": true, \"ticks\": \"\", \"zerolinecolor\": \"white\"}}, \"shapedefaults\": {\"line\": {\"color\": \"#2a3f5f\"}}, \"ternary\": {\"aaxis\": {\"gridcolor\": \"white\", \"linecolor\": \"white\", \"ticks\": \"\"}, \"baxis\": {\"gridcolor\": \"white\", \"linecolor\": \"white\", \"ticks\": \"\"}, \"bgcolor\": \"#E5ECF6\", \"caxis\": {\"gridcolor\": \"white\", \"linecolor\": \"white\", \"ticks\": \"\"}}, \"title\": {\"x\": 0.05}, \"xaxis\": {\"automargin\": true, \"gridcolor\": \"white\", \"linecolor\": \"white\", \"ticks\": \"\", \"title\": {\"standoff\": 15}, \"zerolinecolor\": \"white\", \"zerolinewidth\": 2}, \"yaxis\": {\"automargin\": true, \"gridcolor\": \"white\", \"linecolor\": \"white\", \"ticks\": \"\", \"title\": {\"standoff\": 15}, \"zerolinecolor\": \"white\", \"zerolinewidth\": 2}}}, \"title\": {\"text\": \"Mean Analysis\"}, \"xaxis\": {\"anchor\": \"y\", \"domain\": [0.0, 1.0], \"title\": {\"text\": \"Time\"}}, \"yaxis\": {\"anchor\": \"x\", \"domain\": [0.0, 1.0], \"title\": {\"text\": \"value\"}}},                        {\"responsive\": true}                    ).then(function(){\n",
       "                            \n",
       "var gd = document.getElementById('84552fc1-b4f7-4df3-acec-418e6f3d2809');\n",
       "var x = new MutationObserver(function (mutations, observer) {{\n",
       "        var display = window.getComputedStyle(gd).display;\n",
       "        if (!display || display === 'none') {{\n",
       "            console.log([gd, 'removed!']);\n",
       "            Plotly.purge(gd);\n",
       "            observer.disconnect();\n",
       "        }}\n",
       "}});\n",
       "\n",
       "// Listen for the removal of the full notebook cells\n",
       "var notebookContainer = gd.closest('#notebook-container');\n",
       "if (notebookContainer) {{\n",
       "    x.observe(notebookContainer, {childList: true});\n",
       "}}\n",
       "\n",
       "// Listen for the clearing of the current output cell\n",
       "var outputEl = gd.closest('.output');\n",
       "if (outputEl) {{\n",
       "    x.observe(outputEl, {childList: true});\n",
       "}}\n",
       "\n",
       "                        })                };                });            </script>        </div>"
      ]
     },
     "metadata": {},
     "output_type": "display_data"
    }
   ],
   "source": [
    "!pip install plotly\n",
    "import plotly.express as px  \n",
    "import pandas as pd\n",
    "mean_analysis=pd.read_excel('mean_analysis.xlsx')\n",
    "fig= px.line(mean_analysis, x='Time', y=['银行spread','非银行spread','城投债spread',\\\n",
    "                                         '非城投债spread','房地产债spread','非房地产债spread'],\n",
    "             title='Mean Analysis')   \n",
    "fig.show()"
   ]
  },
  {
   "cell_type": "markdown",
   "metadata": {},
   "source": [
    "<mark style=background-color:red> comments\n",
    " \n",
    "**房地产债的利差较高，银行利差较低，**\n",
    "    \n",
    "**非银行债、非城投债、非房地产债的利差在9月底有上升**"
   ]
  },
  {
   "cell_type": "markdown",
   "metadata": {},
   "source": [
    "## 3.评级与利差"
   ]
  },
  {
   "cell_type": "code",
   "execution_count": 19,
   "metadata": {},
   "outputs": [
    {
     "data": {
      "text/plain": [
       "<matplotlib.axes._subplots.AxesSubplot at 0x7ffe0a9e02b0>"
      ]
     },
     "execution_count": 19,
     "metadata": {},
     "output_type": "execute_result"
    },
    {
     "data": {
      "image/png": "[encoded data removed]",
      "text/plain": [
       "<Figure size 864x360 with 2 Axes>"
      ]
     },
     "metadata": {},
     "output_type": "display_data"
    }
   ],
   "source": [
    "ig, axes = plt.subplots(1,2,figsize=(12, 5),sharey=True,sharex=False,)\n",
    "sns.stripplot(x=\"评级\", y=\"spread\",alpha=0.5, data=spread, ax=axes[0])\n",
    "sns.stripplot(x=\"标普评级\", y=\"spread\",alpha=0.5, data=spread, ax=axes[1])"
   ]
  },
  {
   "cell_type": "markdown",
   "metadata": {},
   "source": [
    "<mark style=background-color:red> comments\n",
    " \n",
    "**评级为投资级的利差较小且集中，高收益的利差较高**\n",
    "    \n",
    "**标普评级为B、BB-、BB的利差较大，为A+、A、A-的利差较小**"
   ]
  },
  {
   "cell_type": "markdown",
   "metadata": {},
   "source": [
    "## 4. 利差回归分析"
   ]
  },
  {
   "cell_type": "code",
   "execution_count": 20,
   "metadata": {},
   "outputs": [],
   "source": [
    "spread_new=spread\n",
    "spread_new=spread_new.dropna(subset=[\"spread\"])\n",
    "spread_new=spread_new.dropna(subset=[\"评级\"])\n",
    "spread_new=spread_new.dropna(subset=[\"标普评级\"])"
   ]
  },
  {
   "cell_type": "code",
   "execution_count": 21,
   "metadata": {},
   "outputs": [
    {
     "data": {
      "text/html": [
       "<div>\n",
       "<style scoped>\n",
       "    .dataframe tbody tr th:only-of-type {\n",
       "        vertical-align: middle;\n",
       "    }\n",
       "\n",
       "    .dataframe tbody tr th {\n",
       "        vertical-align: top;\n",
       "    }\n",
       "\n",
       "    .dataframe thead th {\n",
       "        text-align: right;\n",
       "    }\n",
       "</style>\n",
       "<table border=\"1\" class=\"dataframe\">\n",
       "  <thead>\n",
       "    <tr style=\"text-align: right;\">\n",
       "      <th></th>\n",
       "      <th>Unnamed: 0</th>\n",
       "      <th>彭博代码</th>\n",
       "      <th>是否是银行</th>\n",
       "      <th>是否是城投债</th>\n",
       "      <th>是否是产业债</th>\n",
       "      <th>评级</th>\n",
       "      <th>标普评级</th>\n",
       "      <th>spread1</th>\n",
       "      <th>spread2</th>\n",
       "      <th>spread3</th>\n",
       "      <th>spread4</th>\n",
       "      <th>spread5</th>\n",
       "      <th>spread</th>\n",
       "    </tr>\n",
       "  </thead>\n",
       "  <tbody>\n",
       "    <tr>\n",
       "      <th>6</th>\n",
       "      <td>6</td>\n",
       "      <td>AT5556531</td>\n",
       "      <td>0</td>\n",
       "      <td>0</td>\n",
       "      <td>1</td>\n",
       "      <td>高收益</td>\n",
       "      <td>BB</td>\n",
       "      <td>358.41</td>\n",
       "      <td>352.86</td>\n",
       "      <td>343.81</td>\n",
       "      <td>339.17</td>\n",
       "      <td>351.83</td>\n",
       "      <td>349.216</td>\n",
       "    </tr>\n",
       "    <tr>\n",
       "      <th>9</th>\n",
       "      <td>9</td>\n",
       "      <td>AO5686362</td>\n",
       "      <td>0</td>\n",
       "      <td>0</td>\n",
       "      <td>0</td>\n",
       "      <td>高收益</td>\n",
       "      <td>B</td>\n",
       "      <td>1215.86</td>\n",
       "      <td>1234.40</td>\n",
       "      <td>1241.80</td>\n",
       "      <td>1270.70</td>\n",
       "      <td>1299.03</td>\n",
       "      <td>1252.358</td>\n",
       "    </tr>\n",
       "    <tr>\n",
       "      <th>12</th>\n",
       "      <td>12</td>\n",
       "      <td>AV8965056</td>\n",
       "      <td>0</td>\n",
       "      <td>1</td>\n",
       "      <td>0</td>\n",
       "      <td>投资级</td>\n",
       "      <td>A</td>\n",
       "      <td>114.25</td>\n",
       "      <td>111.10</td>\n",
       "      <td>111.09</td>\n",
       "      <td>113.20</td>\n",
       "      <td>113.02</td>\n",
       "      <td>112.532</td>\n",
       "    </tr>\n",
       "    <tr>\n",
       "      <th>19</th>\n",
       "      <td>19</td>\n",
       "      <td>AQ2325548</td>\n",
       "      <td>0</td>\n",
       "      <td>0</td>\n",
       "      <td>0</td>\n",
       "      <td>投资级</td>\n",
       "      <td>A+</td>\n",
       "      <td>96.20</td>\n",
       "      <td>107.03</td>\n",
       "      <td>110.87</td>\n",
       "      <td>113.90</td>\n",
       "      <td>113.20</td>\n",
       "      <td>108.240</td>\n",
       "    </tr>\n",
       "    <tr>\n",
       "      <th>28</th>\n",
       "      <td>28</td>\n",
       "      <td>AV6441506</td>\n",
       "      <td>1</td>\n",
       "      <td>0</td>\n",
       "      <td>0</td>\n",
       "      <td>投资级</td>\n",
       "      <td>A</td>\n",
       "      <td>75.69</td>\n",
       "      <td>77.00</td>\n",
       "      <td>73.03</td>\n",
       "      <td>75.80</td>\n",
       "      <td>75.56</td>\n",
       "      <td>75.416</td>\n",
       "    </tr>\n",
       "  </tbody>\n",
       "</table>\n",
       "</div>"
      ],
      "text/plain": [
       "    Unnamed: 0       彭博代码  是否是银行  是否是城投债  是否是产业债   评级 标普评级  spread1  spread2  \\\n",
       "6            6  AT5556531      0       0       1  高收益   BB   358.41   352.86   \n",
       "9            9  AO5686362      0       0       0  高收益    B  1215.86  1234.40   \n",
       "12          12  AV8965056      0       1       0  投资级    A   114.25   111.10   \n",
       "19          19  AQ2325548      0       0       0  投资级   A+    96.20   107.03   \n",
       "28          28  AV6441506      1       0       0  投资级    A    75.69    77.00   \n",
       "\n",
       "    spread3  spread4  spread5    spread  \n",
       "6    343.81   339.17   351.83   349.216  \n",
       "9   1241.80  1270.70  1299.03  1252.358  \n",
       "12   111.09   113.20   113.02   112.532  \n",
       "19   110.87   113.90   113.20   108.240  \n",
       "28    73.03    75.80    75.56    75.416  "
      ]
     },
     "execution_count": 21,
     "metadata": {},
     "output_type": "execute_result"
    }
   ],
   "source": [
    "spread_new.head()"
   ]
  },
  {
   "cell_type": "code",
   "execution_count": 22,
   "metadata": {},
   "outputs": [
    {
     "data": {
      "text/html": [
       "<div>\n",
       "<style scoped>\n",
       "    .dataframe tbody tr th:only-of-type {\n",
       "        vertical-align: middle;\n",
       "    }\n",
       "\n",
       "    .dataframe tbody tr th {\n",
       "        vertical-align: top;\n",
       "    }\n",
       "\n",
       "    .dataframe thead th {\n",
       "        text-align: right;\n",
       "    }\n",
       "</style>\n",
       "<table border=\"1\" class=\"dataframe\">\n",
       "  <thead>\n",
       "    <tr style=\"text-align: right;\">\n",
       "      <th></th>\n",
       "      <th>是否是银行</th>\n",
       "      <th>是否是城投债</th>\n",
       "      <th>是否是产业债</th>\n",
       "      <th>spread1</th>\n",
       "      <th>spread2</th>\n",
       "      <th>spread3</th>\n",
       "      <th>spread4</th>\n",
       "      <th>spread5</th>\n",
       "      <th>spread</th>\n",
       "      <th>评级_投资级</th>\n",
       "      <th>...</th>\n",
       "      <th>标普评级_B+</th>\n",
       "      <th>标普评级_B-</th>\n",
       "      <th>标普评级_BB</th>\n",
       "      <th>标普评级_BB+</th>\n",
       "      <th>标普评级_BB-</th>\n",
       "      <th>标普评级_BBB</th>\n",
       "      <th>标普评级_BBB+</th>\n",
       "      <th>标普评级_BBB-</th>\n",
       "      <th>标普评级_BBB- *-</th>\n",
       "      <th>标普评级_NR</th>\n",
       "    </tr>\n",
       "  </thead>\n",
       "  <tbody>\n",
       "    <tr>\n",
       "      <th>6</th>\n",
       "      <td>0</td>\n",
       "      <td>0</td>\n",
       "      <td>1</td>\n",
       "      <td>358.41</td>\n",
       "      <td>352.86</td>\n",
       "      <td>343.81</td>\n",
       "      <td>339.17</td>\n",
       "      <td>351.83</td>\n",
       "      <td>349.216</td>\n",
       "      <td>0</td>\n",
       "      <td>...</td>\n",
       "      <td>0</td>\n",
       "      <td>0</td>\n",
       "      <td>1</td>\n",
       "      <td>0</td>\n",
       "      <td>0</td>\n",
       "      <td>0</td>\n",
       "      <td>0</td>\n",
       "      <td>0</td>\n",
       "      <td>0</td>\n",
       "      <td>0</td>\n",
       "    </tr>\n",
       "    <tr>\n",
       "      <th>9</th>\n",
       "      <td>0</td>\n",
       "      <td>0</td>\n",
       "      <td>0</td>\n",
       "      <td>1215.86</td>\n",
       "      <td>1234.40</td>\n",
       "      <td>1241.80</td>\n",
       "      <td>1270.70</td>\n",
       "      <td>1299.03</td>\n",
       "      <td>1252.358</td>\n",
       "      <td>0</td>\n",
       "      <td>...</td>\n",
       "      <td>0</td>\n",
       "      <td>0</td>\n",
       "      <td>0</td>\n",
       "      <td>0</td>\n",
       "      <td>0</td>\n",
       "      <td>0</td>\n",
       "      <td>0</td>\n",
       "      <td>0</td>\n",
       "      <td>0</td>\n",
       "      <td>0</td>\n",
       "    </tr>\n",
       "    <tr>\n",
       "      <th>12</th>\n",
       "      <td>0</td>\n",
       "      <td>1</td>\n",
       "      <td>0</td>\n",
       "      <td>114.25</td>\n",
       "      <td>111.10</td>\n",
       "      <td>111.09</td>\n",
       "      <td>113.20</td>\n",
       "      <td>113.02</td>\n",
       "      <td>112.532</td>\n",
       "      <td>1</td>\n",
       "      <td>...</td>\n",
       "      <td>0</td>\n",
       "      <td>0</td>\n",
       "      <td>0</td>\n",
       "      <td>0</td>\n",
       "      <td>0</td>\n",
       "      <td>0</td>\n",
       "      <td>0</td>\n",
       "      <td>0</td>\n",
       "      <td>0</td>\n",
       "      <td>0</td>\n",
       "    </tr>\n",
       "    <tr>\n",
       "      <th>19</th>\n",
       "      <td>0</td>\n",
       "      <td>0</td>\n",
       "      <td>0</td>\n",
       "      <td>96.20</td>\n",
       "      <td>107.03</td>\n",
       "      <td>110.87</td>\n",
       "      <td>113.90</td>\n",
       "      <td>113.20</td>\n",
       "      <td>108.240</td>\n",
       "      <td>1</td>\n",
       "      <td>...</td>\n",
       "      <td>0</td>\n",
       "      <td>0</td>\n",
       "      <td>0</td>\n",
       "      <td>0</td>\n",
       "      <td>0</td>\n",
       "      <td>0</td>\n",
       "      <td>0</td>\n",
       "      <td>0</td>\n",
       "      <td>0</td>\n",
       "      <td>0</td>\n",
       "    </tr>\n",
       "    <tr>\n",
       "      <th>28</th>\n",
       "      <td>1</td>\n",
       "      <td>0</td>\n",
       "      <td>0</td>\n",
       "      <td>75.69</td>\n",
       "      <td>77.00</td>\n",
       "      <td>73.03</td>\n",
       "      <td>75.80</td>\n",
       "      <td>75.56</td>\n",
       "      <td>75.416</td>\n",
       "      <td>1</td>\n",
       "      <td>...</td>\n",
       "      <td>0</td>\n",
       "      <td>0</td>\n",
       "      <td>0</td>\n",
       "      <td>0</td>\n",
       "      <td>0</td>\n",
       "      <td>0</td>\n",
       "      <td>0</td>\n",
       "      <td>0</td>\n",
       "      <td>0</td>\n",
       "      <td>0</td>\n",
       "    </tr>\n",
       "  </tbody>\n",
       "</table>\n",
       "<p>5 rows × 26 columns</p>\n",
       "</div>"
      ],
      "text/plain": [
       "    是否是银行  是否是城投债  是否是产业债  spread1  spread2  spread3  spread4  spread5  \\\n",
       "6       0       0       1   358.41   352.86   343.81   339.17   351.83   \n",
       "9       0       0       0  1215.86  1234.40  1241.80  1270.70  1299.03   \n",
       "12      0       1       0   114.25   111.10   111.09   113.20   113.02   \n",
       "19      0       0       0    96.20   107.03   110.87   113.90   113.20   \n",
       "28      1       0       0    75.69    77.00    73.03    75.80    75.56   \n",
       "\n",
       "      spread  评级_投资级  ...  标普评级_B+  标普评级_B-  标普评级_BB  标普评级_BB+  标普评级_BB-  \\\n",
       "6    349.216       0  ...        0        0        1         0         0   \n",
       "9   1252.358       0  ...        0        0        0         0         0   \n",
       "12   112.532       1  ...        0        0        0         0         0   \n",
       "19   108.240       1  ...        0        0        0         0         0   \n",
       "28    75.416       1  ...        0        0        0         0         0   \n",
       "\n",
       "    标普评级_BBB  标普评级_BBB+  标普评级_BBB-  标普评级_BBB- *-  标普评级_NR  \n",
       "6          0          0          0             0        0  \n",
       "9          0          0          0             0        0  \n",
       "12         0          0          0             0        0  \n",
       "19         0          0          0             0        0  \n",
       "28         0          0          0             0        0  \n",
       "\n",
       "[5 rows x 26 columns]"
      ]
     },
     "execution_count": 22,
     "metadata": {},
     "output_type": "execute_result"
    }
   ],
   "source": [
    "dataset=spread_new.drop(['彭博代码','Unnamed: 0'],axis=1)\n",
    "dataset=pd.get_dummies(dataset)\n",
    "dataset.head()"
   ]
  },
  {
   "cell_type": "code",
   "execution_count": 23,
   "metadata": {},
   "outputs": [
    {
     "name": "stdout",
     "output_type": "stream",
     "text": [
      "                            OLS Regression Results                            \n",
      "==============================================================================\n",
      "Dep. Variable:                 spread   R-squared:                       0.794\n",
      "Model:                            OLS   Adj. R-squared:                  0.784\n",
      "Method:                 Least Squares   F-statistic:                     75.93\n",
      "Date:                Wed, 18 Nov 2020   Prob (F-statistic):          1.33e-109\n",
      "Time:                        22:32:15   Log-Likelihood:                -2177.3\n",
      "No. Observations:                 373   AIC:                             4393.\n",
      "Df Residuals:                     354   BIC:                             4467.\n",
      "Df Model:                          18                                         \n",
      "Covariance Type:            nonrobust                                         \n",
      "================================================================================\n",
      "                   coef    std err          t      P>|t|      [0.025      0.975]\n",
      "--------------------------------------------------------------------------------\n",
      "const          240.0788     13.364     17.965      0.000     213.796     266.362\n",
      "是否是银行          -44.1661     14.984     -2.948      0.003     -73.635     -14.697\n",
      "是否是城投债          25.2927     20.937      1.208      0.228     -15.884      66.469\n",
      "是否是产业债         -19.1499     15.766     -1.215      0.225     -50.158      11.858\n",
      "评级_投资级          16.1289     34.117      0.473      0.637     -50.968      83.226\n",
      "评级_无评级          32.1994     36.744      0.876      0.381     -40.066     104.464\n",
      "评级_高收益         191.7505     46.599      4.115      0.000     100.104     283.397\n",
      "标普评级_A        -125.3495     32.582     -3.847      0.000    -189.428     -61.271\n",
      "标普评级_A+       -155.0615     32.002     -4.845      0.000    -217.999     -92.124\n",
      "标普评级_A-       -109.0284     34.429     -3.167      0.002    -176.739     -41.318\n",
      "标普评级_B         187.6334     50.982      3.680      0.000      87.368     287.899\n",
      "标普评级_B+        104.5046     52.581      1.988      0.048       1.094     207.915\n",
      "标普评级_B-        273.4256     55.039      4.968      0.000     165.182     381.669\n",
      "标普评级_BB         -9.1365     52.159     -0.175      0.861    -111.716      93.443\n",
      "标普评级_BB+       139.4423     85.023      1.640      0.102     -27.771     306.656\n",
      "标普评级_BB-        62.0171     51.417      1.206      0.229     -39.105     163.139\n",
      "标普评级_BBB       -79.6964     33.489     -2.380      0.018    -145.558     -13.834\n",
      "标普评级_BBB+      -80.6848     32.003     -2.521      0.012    -143.624     -17.746\n",
      "标普评级_BBB-        0.7811     35.372      0.022      0.982     -68.785      70.347\n",
      "标普评级_BBB- *-    -0.5197     85.023     -0.006      0.995    -167.733     166.694\n",
      "标普评级_NR         31.7516     34.817      0.912      0.362     -36.722     100.225\n",
      "==============================================================================\n",
      "Omnibus:                      219.300   Durbin-Watson:                   1.873\n",
      "Prob(Omnibus):                  0.000   Jarque-Bera (JB):             3907.842\n",
      "Skew:                           2.085   Prob(JB):                         0.00\n",
      "Kurtosis:                      18.299   Cond. No.                     9.27e+15\n",
      "==============================================================================\n",
      "\n",
      "Warnings:\n",
      "[1] Standard Errors assume that the covariance matrix of the errors is correctly specified.\n",
      "[2] The smallest eigenvalue is 8.34e-30. This might indicate that there are\n",
      "strong multicollinearity problems or that the design matrix is singular.\n"
     ]
    }
   ],
   "source": [
    "dataset.dropna(inplace=True)\n",
    "y=dataset['spread']\n",
    "import statsmodels.api as sm\n",
    "X = dataset.drop(['spread1','spread2','spread3','spread4','spread5','spread' ],axis=1)\n",
    "X = sm.add_constant(X)\n",
    "reg = sm.OLS(y, X).fit()\n",
    "print(reg.summary())"
   ]
  },
  {
   "cell_type": "markdown",
   "metadata": {},
   "source": [
    "<mark style=background-color:red> comments\n",
    " \n",
    "**模型的R-square=0.794**\n",
    "    \n",
    "**银行发债相比于其他主体对利差的影响显著为负(与上文分析得出的银行债利差较低相符），高收益评级相比于其他评级对利差的应显著为正**\n",
    "    \n",
    "**评级为BBB以上（即投资级）的利差会较小，评级为B+、B、B-（投机级）的利差会较大，符合基本的常识.**"
   ]
  },
  {
   "cell_type": "code",
   "execution_count": null,
   "metadata": {},
   "outputs": [],
   "source": []
  }
 ],
 "metadata": {
  "kernelspec": {
   "display_name": "Python 3",
   "language": "python",
   "name": "python3"
  },
  "language_info": {
   "codemirror_mode": {
    "name": "ipython",
    "version": 3
   },
   "file_extension": ".py",
   "mimetype": "text/x-python",
   "name": "python",
   "nbconvert_exporter": "python",
   "pygments_lexer": "ipython3",
   "version": "3.8.3"
  }
 },
 "nbformat": 4,
 "nbformat_minor": 4
}
